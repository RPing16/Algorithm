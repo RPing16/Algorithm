{
 "cells": [
  {
   "cell_type": "markdown",
   "metadata": {},
   "source": [
    "# 情境"
   ]
  },
  {
   "cell_type": "markdown",
   "metadata": {},
   "source": [
    "- 不知道圓周率，欲透過圓的面積公式【面積 = (半徑平方)*圓周率】反求圓周率"
   ]
  },
  {
   "cell_type": "markdown",
   "metadata": {},
   "source": [
    "- 函數 pi(n) = 求圓周率\n",
    "- n = 灑點次數\n",
    "- 用邊長=1的方形包圍住半徑=0.5之圓方形面積=1\n",
    "- 圓心 = (0.5,0.5)"
   ]
  },
  {
   "cell_type": "code",
   "execution_count": 1,
   "metadata": {},
   "outputs": [
    {
     "name": "stdout",
     "output_type": "stream",
     "text": [
      "請輸入大於 0 整數\n",
      "請輸入灑點次數 10000000\n",
      "圓周率約為 3.1421036\n"
     ]
    }
   ],
   "source": [
    "import math\n",
    "import random\n",
    "\n",
    "def pi(n) :\n",
    "    count = 0    # 用於計算有多少點落在圓內\n",
    "    for i in range(n) :\n",
    "        x = random.random()    # 在產生x軸產生服從均勻(0,1)的亂數\n",
    "        y = random.random()   # 在產生y軸產生服從均勻(0,1)的亂數\n",
    "        if pow( (x-0.5)**2 + (y-0.5)**2 , 0.5) < 0.5 :    # 計算落在圓內的點數，若落在圓內count +1\n",
    "            count = count + 1\n",
    "    area_hat = ( count / n )*1    # 圓的面積估計為「落在圓內的點數佔總點數」之比例*方形面積(1)\n",
    "    pi = area_hat/(0.5**2)   # 估計圓周率\n",
    "    return pi   # 回傳估計的圓周率\n",
    "\n",
    "n = -1                                  # 設定n的初始值不滿足條件，使程式必定進入迴圈讓使用者輸入\n",
    "while not (type(n) == int and n > 0):   # 讓使用者輸入灑點次數，回答估計結果\n",
    "    print('請輸入大於 0 整數')           # 若使用者輸入之撒點次數不滿足條件    \n",
    "    n = input('請輸入灑點次數 ')         # 則回傳錯誤並請其再次輸入灑點次數\n",
    "    n = int( float(n) )\n",
    "    \n",
    "ans = pi(n)\n",
    "print('圓周率約為', ans)"
   ]
  },
  {
   "cell_type": "code",
   "execution_count": 2,
   "metadata": {},
   "outputs": [
    {
     "data": {
      "text/plain": [
       "<matplotlib.axes._subplots.AxesSubplot at 0x166740b8880>"
      ]
     },
     "execution_count": 2,
     "metadata": {},
     "output_type": "execute_result"
    },
    {
     "data": {
      "image/png": "[encoded data removed]",
      "text/plain": [
       "<Figure size 432x288 with 1 Axes>"
      ]
     },
     "metadata": {
      "needs_background": "light"
     },
     "output_type": "display_data"
    }
   ],
   "source": [
    "import pandas as pd\n",
    "a = pd.Series( pi(n) for n in range(100, 100000, 100) )\n",
    "a.plot()"
   ]
  }
 ],
 "metadata": {
  "kernelspec": {
   "display_name": "Python 3 (ipykernel)",
   "language": "python",
   "name": "python3"
  },
  "language_info": {
   "codemirror_mode": {
    "name": "ipython",
    "version": 3
   },
   "file_extension": ".py",
   "mimetype": "text/x-python",
   "name": "python",
   "nbconvert_exporter": "python",
   "pygments_lexer": "ipython3",
   "version": "3.10.11"
  }
 },
 "nbformat": 4,
 "nbformat_minor": 4
}
