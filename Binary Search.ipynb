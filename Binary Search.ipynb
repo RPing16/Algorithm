{
 "cells": [
  {
   "cell_type": "markdown",
   "metadata": {},
   "source": [
    "# 目標\n",
    "1. 透過「二分法」搜尋目標的索引值\n",
    "2. 與使用「for迴圈」比較優劣"
   ]
  },
  {
   "cell_type": "markdown",
   "metadata": {},
   "source": [
    "# 1. 透過「二分法」搜尋目標的索引值"
   ]
  },
  {
   "cell_type": "markdown",
   "metadata": {},
   "source": [
    "# Step 1 導入套件"
   ]
  },
  {
   "cell_type": "code",
   "execution_count": 1,
   "metadata": {},
   "outputs": [],
   "source": [
    "import warnings\n",
    "warnings.filterwarnings('ignore')\n",
    "import random\n",
    "import time"
   ]
  },
  {
   "cell_type": "markdown",
   "metadata": {},
   "source": [
    "# Step 2 產生搜尋目標"
   ]
  },
  {
   "cell_type": "markdown",
   "metadata": {},
   "source": [
    "## (1)  產生一個排序過且不重複的隨機串列"
   ]
  },
  {
   "cell_type": "code",
   "execution_count": 2,
   "metadata": {},
   "outputs": [],
   "source": [
    "N = 10000000   # 亂數上界\n",
    "n = 1000000    # list個數\n",
    "sorted_list = sorted(random.sample(range(N),n))"
   ]
  },
  {
   "cell_type": "markdown",
   "metadata": {},
   "source": [
    "## (2) 從上面產生的串列中，隨機取一個數作為欲搜尋目標 ( target_value )"
   ]
  },
  {
   "cell_type": "code",
   "execution_count": 3,
   "metadata": {},
   "outputs": [
    {
     "name": "stdout",
     "output_type": "stream",
     "text": [
      "target value = 8887853\n"
     ]
    }
   ],
   "source": [
    "random_index = random.randint( 0 , len(sorted_list) - 1 )   # 抽搜尋目標的索引值\n",
    "target_value = sorted_list[random_index]\n",
    "print('target value =',target_value)"
   ]
  },
  {
   "cell_type": "markdown",
   "metadata": {},
   "source": [
    "## 確認目標的索引值(正確答案)"
   ]
  },
  {
   "cell_type": "code",
   "execution_count": 4,
   "metadata": {},
   "outputs": [
    {
     "data": {
      "text/plain": [
       "888638"
      ]
     },
     "execution_count": 4,
     "metadata": {},
     "output_type": "execute_result"
    }
   ],
   "source": [
    "# 目標的索引值\n",
    "random_index"
   ]
  },
  {
   "cell_type": "markdown",
   "metadata": {},
   "source": [
    "# Step 3 建立二分法函數\n",
    "- Binary_Search( sorted_list, target_value )\n",
    "    - sorted_list : 上面產生的「排序過且不重複的隨機串列」\n",
    "    - target_value : 上面產生的「欲搜尋目標」之數值\n",
    "- lower_bond_index : sorted_list中最小值的索引值\n",
    "- upper_bond_index : sorted_list中最大值的索引值\n",
    "- mid_index : sorted_list中間值的索引值\n",
    "- mid_value : sorted_list中間值的數值\n",
    "- time_start : 程式開始執行時間\n",
    "- time_end : 程式結束執行時間\n",
    "- search_time : 搜尋到target_value所花費時間\n",
    "- number_of_searches : 該程式搜尋到target_value所花費次數"
   ]
  },
  {
   "cell_type": "code",
   "execution_count": 5,
   "metadata": {},
   "outputs": [],
   "source": [
    "def Binary_Search( sorted_list, target_value ) :\n",
    "    \n",
    "    time_start = time.perf_counter()   # 後面用於計算搜尋時間，此函數可測量極短的時間( 時間過短時使用time.time()輸出可能為0 )\n",
    "    \n",
    "    ##  設定二分法會使用到的參數初始值  ##\n",
    "    \n",
    "    lower_bond_index = 0   # sorted_list已進行排序了 \n",
    "    upper_bond_index = len(sorted_list) - 1   # 最後一個索引值為n-1\n",
    "    mid_index = int( ( lower_bond_index + upper_bond_index ) / 2 )   # 中間index，索引值必須為整數 \n",
    "    mid_value = sorted_list[mid_index]  # 中間index對應的value\n",
    "    \n",
    "    ## 使用二分法搜尋  ##\n",
    "    \n",
    "    number_of_searches = 1   # 用於計算搜尋次數\n",
    "    while not ( target_value == mid_value ) :          # 只要 target_value 不等於 mid_value 則一直執行該迴圈\n",
    "        \n",
    "        ###  用於查看搜尋過程  ###\n",
    "        \n",
    "        print(f'第{number_of_searches}次搜尋', end = '  ')\n",
    "        print(f'target_value = {target_value}', end = '  ')\n",
    "        print(f'mid_value = {mid_value}', end = '  ')\n",
    "        print(f'lower_bond_index = {lower_bond_index}', end = '  ')\n",
    "        print(f'upper_bond_index = {upper_bond_index}')\n",
    "        \n",
    "        ###  繼續進行迴圈  ###\n",
    "\n",
    "        number_of_searches = number_of_searches + 1    # 每次進入while迴圈便+1，用於計算搜尋次數\n",
    "        if target_value < mid_value :                  # 若 target_value 小於 mid_value\n",
    "            upper_bond_index = mid_index               # 便將 mid_index 設為新的 upper_bond_index\n",
    "            mid_index = int( ( lower_bond_index + upper_bond_index ) / 2 )   # 並且計算新的 mid_index\n",
    "            mid_value = sorted_list[mid_index]                               # 以及計算新的 mid_value\n",
    "        else :                                         # 若 target_value 大於 mid_value\n",
    "            lower_bond_index = mid_index               # 便將 mid_index 設為新的 lower_bond_index\n",
    "            mid_index = int( ( lower_bond_index + upper_bond_index ) / 2 )   # 並且計算新的 mid_index\n",
    "            mid_value = sorted_list[mid_index]                               # 以及計算新的 mid_value\n",
    "            \n",
    "        if  number_of_searches > len(sorted_list) :  # 保護機制 : 若搜尋次數超過 len(sorted_list) 次 \n",
    "            print('cannot search')                   #            ( len(sorted_list) = 不使用二分法直接用for去搜尋的次數，\n",
    "            target_index = -1                        #              若二分法搜尋次數超過for次數則使用二分法無意義 )\n",
    "            break                                    #           回傳cannot search並給target_index一個數值(隨意)，最後停止搜尋\n",
    "    \n",
    "    target_index = mid_index              # 若迴圈順利進行並找到目標值，則此時 target_index等於mid_index\n",
    "    \n",
    "    ## 用於查看「最後一次」搜尋的過程  ##\n",
    "    \n",
    "    print(f'第{number_of_searches}次搜尋', end = '  ')\n",
    "    print(f'target_value = {target_value}', end = '  ')\n",
    "    print(f'mid_value = {mid_value}', end = '  ')\n",
    "    print(f'lower_bond_index = {lower_bond_index}', end = '  ')\n",
    "    print(f'upper_bond_index = {upper_bond_index}')\n",
    "    \n",
    "    ##  計算搜尋時間  ##\n",
    "    \n",
    "    time_end = time.perf_counter()\n",
    "    search_time = time_end - time_start\n",
    "    \n",
    "    return target_index, search_time, number_of_searches   # 回傳「目標的索引值、搜尋時間、搜尋次數」"
   ]
  },
  {
   "cell_type": "markdown",
   "metadata": {},
   "source": [
    "## Step 4 輸出結果"
   ]
  },
  {
   "cell_type": "code",
   "execution_count": 6,
   "metadata": {},
   "outputs": [
    {
     "name": "stdout",
     "output_type": "stream",
     "text": [
      "第1次搜尋  target_value = 8887853  mid_value = 5004125  lower_bond_index = 0  upper_bond_index = 999999\n",
      "第2次搜尋  target_value = 8887853  mid_value = 7501939  lower_bond_index = 499999  upper_bond_index = 999999\n",
      "第3次搜尋  target_value = 8887853  mid_value = 8751190  lower_bond_index = 749999  upper_bond_index = 999999\n",
      "第4次搜尋  target_value = 8887853  mid_value = 9376541  lower_bond_index = 874999  upper_bond_index = 999999\n",
      "第5次搜尋  target_value = 8887853  mid_value = 9064051  lower_bond_index = 874999  upper_bond_index = 937499\n",
      "第6次搜尋  target_value = 8887853  mid_value = 8907631  lower_bond_index = 874999  upper_bond_index = 906249\n",
      "第7次搜尋  target_value = 8887853  mid_value = 8829136  lower_bond_index = 874999  upper_bond_index = 890624\n",
      "第8次搜尋  target_value = 8887853  mid_value = 8868597  lower_bond_index = 882811  upper_bond_index = 890624\n",
      "第9次搜尋  target_value = 8887853  mid_value = 8888183  lower_bond_index = 886717  upper_bond_index = 890624\n",
      "第10次搜尋  target_value = 8887853  mid_value = 8878348  lower_bond_index = 886717  upper_bond_index = 888670\n",
      "第11次搜尋  target_value = 8887853  mid_value = 8883449  lower_bond_index = 887693  upper_bond_index = 888670\n",
      "第12次搜尋  target_value = 8887853  mid_value = 8885847  lower_bond_index = 888181  upper_bond_index = 888670\n",
      "第13次搜尋  target_value = 8887853  mid_value = 8887026  lower_bond_index = 888425  upper_bond_index = 888670\n",
      "第14次搜尋  target_value = 8887853  mid_value = 8887621  lower_bond_index = 888547  upper_bond_index = 888670\n",
      "第15次搜尋  target_value = 8887853  mid_value = 8887862  lower_bond_index = 888608  upper_bond_index = 888670\n",
      "第16次搜尋  target_value = 8887853  mid_value = 8887714  lower_bond_index = 888608  upper_bond_index = 888639\n",
      "第17次搜尋  target_value = 8887853  mid_value = 8887788  lower_bond_index = 888623  upper_bond_index = 888639\n",
      "第18次搜尋  target_value = 8887853  mid_value = 8887828  lower_bond_index = 888631  upper_bond_index = 888639\n",
      "第19次搜尋  target_value = 8887853  mid_value = 8887842  lower_bond_index = 888635  upper_bond_index = 888639\n",
      "第20次搜尋  target_value = 8887853  mid_value = 8887853  lower_bond_index = 888637  upper_bond_index = 888639\n",
      "\n",
      "\n",
      "目標的索引值 = 888638\n",
      "搜尋時間 = 0.00023249999867402948 秒\n",
      "搜尋次數 = 20 次\n"
     ]
    }
   ],
   "source": [
    "target_index, search_time, number_of_searches = Binary_Search( sorted_list, target_value )\n",
    "\n",
    "print('\\n')\n",
    "\n",
    "print('目標的索引值 =',target_index)\n",
    "print(f'搜尋時間 = {search_time} 秒')\n",
    "print(f'搜尋次數 = {number_of_searches :,} 次')"
   ]
  },
  {
   "cell_type": "markdown",
   "metadata": {},
   "source": [
    "# 2. 與使用「for迴圈」比較優劣"
   ]
  },
  {
   "cell_type": "code",
   "execution_count": 7,
   "metadata": {},
   "outputs": [
    {
     "name": "stdout",
     "output_type": "stream",
     "text": [
      "目標索引值 = 888638\n",
      "搜尋時間 = 0.04595150000022841 秒\n",
      "搜尋次數 = 1,000,000 次\n",
      "在資料數量為 1,000,000 個下，「for迴圈」的搜尋時間是「二方法」的 197 倍\n",
      "在資料數量為 1,000,000 個下，「for迴圈」的搜尋次數是「二分法」的 50000 倍\n"
     ]
    }
   ],
   "source": [
    "start_time2 = time.perf_counter()\n",
    "target_index_2 = sorted_list.index( target_value )  # .index()這個函數是透過for迴圈尋找value對應的index\n",
    "end_time2 = time.perf_counter()  \n",
    "search_time2 = end_time2 - start_time2\n",
    "print('目標索引值 =', target_index_2)\n",
    "print(f'搜尋時間 = {search_time2} 秒')\n",
    "print(f'搜尋次數 = {len(sorted_list) :,} 次')\n",
    "print(f'在資料數量為 { n :,} 個下，「for迴圈」的搜尋時間是「二方法」的 { int(search_time2 / search_time) } 倍')\n",
    "print(f'在資料數量為 { n :,} 個下，「for迴圈」的搜尋次數是「二分法」的 { int( len(sorted_list) / number_of_searches) } 倍') \n",
    "\n",
    "               # { n :,} 將 n 用千分位隔開"
   ]
  }
 ],
 "metadata": {
  "kernelspec": {
   "display_name": "Python 3 (ipykernel)",
   "language": "python",
   "name": "python3"
  },
  "language_info": {
   "codemirror_mode": {
    "name": "ipython",
    "version": 3
   },
   "file_extension": ".py",
   "mimetype": "text/x-python",
   "name": "python",
   "nbconvert_exporter": "python",
   "pygments_lexer": "ipython3",
   "version": "3.10.11"
  }
 },
 "nbformat": 4,
 "nbformat_minor": 4
}
